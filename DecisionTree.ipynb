{
 "cells": [
  {
   "cell_type": "code",
   "execution_count": 1,
   "metadata": {},
   "outputs": [
    {
     "name": "stdout",
     "output_type": "stream",
     "text": [
      "%pylab is deprecated, use %matplotlib inline and import the required libraries.\n",
      "Populating the interactive namespace from numpy and matplotlib\n"
     ]
    }
   ],
   "source": [
    "%pylab inline"
   ]
  },
  {
   "cell_type": "code",
   "execution_count": 3,
   "metadata": {},
   "outputs": [],
   "source": [
    "from sklearn.tree import DecisionTreeClassifier"
   ]
  },
  {
   "cell_type": "code",
   "execution_count": 31,
   "metadata": {},
   "outputs": [],
   "source": [
    "DB = list(\"CCGGAAGFFEEDDCGGFFEEDGGFFEEDCCGGAAGFFEEDDC\")"
   ]
  },
  {
   "cell_type": "code",
   "execution_count": 32,
   "metadata": {},
   "outputs": [],
   "source": [
    "ins = []\n",
    "outs = []"
   ]
  },
  {
   "cell_type": "code",
   "execution_count": 33,
   "metadata": {},
   "outputs": [
    {
     "name": "stdout",
     "output_type": "stream",
     "text": [
      "[67, 67, 71, 71] 65\n",
      "[67, 71, 71, 65] 65\n",
      "[71, 71, 65, 65] 71\n",
      "[71, 65, 65, 71] 70\n",
      "[65, 65, 71, 70] 70\n",
      "[65, 71, 70, 70] 69\n",
      "[71, 70, 70, 69] 69\n",
      "[70, 70, 69, 69] 68\n",
      "[70, 69, 69, 68] 68\n",
      "[69, 69, 68, 68] 67\n",
      "[69, 68, 68, 67] 71\n",
      "[68, 68, 67, 71] 71\n",
      "[68, 67, 71, 71] 70\n",
      "[67, 71, 71, 70] 70\n",
      "[71, 71, 70, 70] 69\n",
      "[71, 70, 70, 69] 69\n",
      "[70, 70, 69, 69] 68\n",
      "[70, 69, 69, 68] 71\n",
      "[69, 69, 68, 71] 71\n",
      "[69, 68, 71, 71] 70\n",
      "[68, 71, 71, 70] 70\n",
      "[71, 71, 70, 70] 69\n",
      "[71, 70, 70, 69] 69\n",
      "[70, 70, 69, 69] 68\n",
      "[70, 69, 69, 68] 67\n",
      "[69, 69, 68, 67] 67\n",
      "[69, 68, 67, 67] 71\n",
      "[68, 67, 67, 71] 71\n",
      "[67, 67, 71, 71] 65\n",
      "[67, 71, 71, 65] 65\n",
      "[71, 71, 65, 65] 71\n",
      "[71, 65, 65, 71] 70\n",
      "[65, 65, 71, 70] 70\n",
      "[65, 71, 70, 70] 69\n",
      "[71, 70, 70, 69] 69\n",
      "[70, 70, 69, 69] 68\n",
      "[70, 69, 69, 68] 68\n",
      "[69, 69, 68, 68] 67\n",
      "[69, 68, 68, 67] 67\n",
      "[68, 68, 67, 67] 67\n",
      "[68, 67, 67, 67] 71\n",
      "[67, 67, 67, 71] 71\n"
     ]
    }
   ],
   "source": [
    "for i in range(42):\n",
    "    I = []\n",
    "    for j in range(4):\n",
    "        I.append(ord(DB[(i+j)%42]))\n",
    "    outs.append(ord(DB[(i+4)%42]))\n",
    "    print(I, outs[-1])\n",
    "    ins.append(I)\n",
    "        "
   ]
  },
  {
   "cell_type": "code",
   "execution_count": 34,
   "metadata": {},
   "outputs": [
    {
     "data": {
      "text/html": [
       "<style>#sk-container-id-3 {color: black;}#sk-container-id-3 pre{padding: 0;}#sk-container-id-3 div.sk-toggleable {background-color: white;}#sk-container-id-3 label.sk-toggleable__label {cursor: pointer;display: block;width: 100%;margin-bottom: 0;padding: 0.3em;box-sizing: border-box;text-align: center;}#sk-container-id-3 label.sk-toggleable__label-arrow:before {content: \"▸\";float: left;margin-right: 0.25em;color: #696969;}#sk-container-id-3 label.sk-toggleable__label-arrow:hover:before {color: black;}#sk-container-id-3 div.sk-estimator:hover label.sk-toggleable__label-arrow:before {color: black;}#sk-container-id-3 div.sk-toggleable__content {max-height: 0;max-width: 0;overflow: hidden;text-align: left;background-color: #f0f8ff;}#sk-container-id-3 div.sk-toggleable__content pre {margin: 0.2em;color: black;border-radius: 0.25em;background-color: #f0f8ff;}#sk-container-id-3 input.sk-toggleable__control:checked~div.sk-toggleable__content {max-height: 200px;max-width: 100%;overflow: auto;}#sk-container-id-3 input.sk-toggleable__control:checked~label.sk-toggleable__label-arrow:before {content: \"▾\";}#sk-container-id-3 div.sk-estimator input.sk-toggleable__control:checked~label.sk-toggleable__label {background-color: #d4ebff;}#sk-container-id-3 div.sk-label input.sk-toggleable__control:checked~label.sk-toggleable__label {background-color: #d4ebff;}#sk-container-id-3 input.sk-hidden--visually {border: 0;clip: rect(1px 1px 1px 1px);clip: rect(1px, 1px, 1px, 1px);height: 1px;margin: -1px;overflow: hidden;padding: 0;position: absolute;width: 1px;}#sk-container-id-3 div.sk-estimator {font-family: monospace;background-color: #f0f8ff;border: 1px dotted black;border-radius: 0.25em;box-sizing: border-box;margin-bottom: 0.5em;}#sk-container-id-3 div.sk-estimator:hover {background-color: #d4ebff;}#sk-container-id-3 div.sk-parallel-item::after {content: \"\";width: 100%;border-bottom: 1px solid gray;flex-grow: 1;}#sk-container-id-3 div.sk-label:hover label.sk-toggleable__label {background-color: #d4ebff;}#sk-container-id-3 div.sk-serial::before {content: \"\";position: absolute;border-left: 1px solid gray;box-sizing: border-box;top: 0;bottom: 0;left: 50%;z-index: 0;}#sk-container-id-3 div.sk-serial {display: flex;flex-direction: column;align-items: center;background-color: white;padding-right: 0.2em;padding-left: 0.2em;position: relative;}#sk-container-id-3 div.sk-item {position: relative;z-index: 1;}#sk-container-id-3 div.sk-parallel {display: flex;align-items: stretch;justify-content: center;background-color: white;position: relative;}#sk-container-id-3 div.sk-item::before, #sk-container-id-3 div.sk-parallel-item::before {content: \"\";position: absolute;border-left: 1px solid gray;box-sizing: border-box;top: 0;bottom: 0;left: 50%;z-index: -1;}#sk-container-id-3 div.sk-parallel-item {display: flex;flex-direction: column;z-index: 1;position: relative;background-color: white;}#sk-container-id-3 div.sk-parallel-item:first-child::after {align-self: flex-end;width: 50%;}#sk-container-id-3 div.sk-parallel-item:last-child::after {align-self: flex-start;width: 50%;}#sk-container-id-3 div.sk-parallel-item:only-child::after {width: 0;}#sk-container-id-3 div.sk-dashed-wrapped {border: 1px dashed gray;margin: 0 0.4em 0.5em 0.4em;box-sizing: border-box;padding-bottom: 0.4em;background-color: white;}#sk-container-id-3 div.sk-label label {font-family: monospace;font-weight: bold;display: inline-block;line-height: 1.2em;}#sk-container-id-3 div.sk-label-container {text-align: center;}#sk-container-id-3 div.sk-container {/* jupyter's `normalize.less` sets `[hidden] { display: none; }` but bootstrap.min.css set `[hidden] { display: none !important; }` so we also need the `!important` here to be able to override the default hidden behavior on the sphinx rendered scikit-learn.org. See: https://github.com/scikit-learn/scikit-learn/issues/21755 */display: inline-block !important;position: relative;}#sk-container-id-3 div.sk-text-repr-fallback {display: none;}</style><div id=\"sk-container-id-3\" class=\"sk-top-container\"><div class=\"sk-text-repr-fallback\"><pre>DecisionTreeClassifier()</pre><b>In a Jupyter environment, please rerun this cell to show the HTML representation or trust the notebook. <br />On GitHub, the HTML representation is unable to render, please try loading this page with nbviewer.org.</b></div><div class=\"sk-container\" hidden><div class=\"sk-item\"><div class=\"sk-estimator sk-toggleable\"><input class=\"sk-toggleable__control sk-hidden--visually\" id=\"sk-estimator-id-3\" type=\"checkbox\" checked><label for=\"sk-estimator-id-3\" class=\"sk-toggleable__label sk-toggleable__label-arrow\">DecisionTreeClassifier</label><div class=\"sk-toggleable__content\"><pre>DecisionTreeClassifier()</pre></div></div></div></div></div>"
      ],
      "text/plain": [
       "DecisionTreeClassifier()"
      ]
     },
     "execution_count": 34,
     "metadata": {},
     "output_type": "execute_result"
    }
   ],
   "source": [
    "dtc = DecisionTreeClassifier()\n",
    "dtc.fit(ins, outs)"
   ]
  },
  {
   "cell_type": "code",
   "execution_count": 35,
   "metadata": {},
   "outputs": [
    {
     "data": {
      "text/plain": [
       "0.9285714285714286"
      ]
     },
     "execution_count": 35,
     "metadata": {},
     "output_type": "execute_result"
    }
   ],
   "source": [
    "dtc. score(ins, outs)"
   ]
  },
  {
   "cell_type": "code",
   "execution_count": 36,
   "metadata": {},
   "outputs": [
    {
     "data": {
      "text/plain": [
       "0.9047619047619048"
      ]
     },
     "execution_count": 36,
     "metadata": {},
     "output_type": "execute_result"
    }
   ],
   "source": [
    "(42-4)/42"
   ]
  },
  {
   "cell_type": "markdown",
   "metadata": {},
   "source": [
    "## Training and testing on same song or same combination of songs"
   ]
  },
  {
   "cell_type": "code",
   "execution_count": 46,
   "metadata": {},
   "outputs": [],
   "source": [
    "def process_songs(songs):\n",
    "    # Lists to store inputs and outputs across all songs\n",
    "    ins = []\n",
    "    outs = []\n",
    "    \n",
    "    # Process each song in the list\n",
    "    for song_string in songs:\n",
    "        DB = list(song_string)  # Convert string to a list of characters\n",
    "        # Ensure the song is at least 5 characters for this processing\n",
    "        if len(DB) < 5:\n",
    "            continue\n",
    "        \n",
    "        # Generate features and labels for exactly 42 positions\n",
    "        for i in range(42):\n",
    "            I = []\n",
    "            # Collect ASCII values of a sequence of 4 characters with circular indexing\n",
    "            for j in range(4):\n",
    "                I.append(ord(DB[(i + j) % len(DB)]))\n",
    "            # Collect ASCII value of the next character with circular indexing\n",
    "            outs.append(ord(DB[(i + 4) % len(DB)]))\n",
    "            ins.append(I)\n",
    "            #print(I, outs[-1])  # Optionally print the input and corresponding output\n",
    "\n",
    "    return ins, outs\n",
    "\n",
    "# # Example usage:\n",
    "# songs = [\n",
    "#     \"CCGGAAGFFEEDDCGGFFEEDGGFFEEDCCGGAAGFFEEDDC\",  # Example song 1\n",
    "#     \"ABCDEFGHIABCDEFGHIABCDEFGHIABCDEFGHIABCDEF\"   # Example song 2\n",
    "# ]\n",
    "# inputs, outputs = process_songs(songs)\n",
    "\n",
    "# # Optionally print the size of the generated lists to verify\n",
    "# print(\"Total Inputs Generated:\", len(inputs))\n",
    "# print(\"Total Outputs Generated:\", len(outputs))\n"
   ]
  },
  {
   "cell_type": "code",
   "execution_count": 47,
   "metadata": {},
   "outputs": [],
   "source": [
    "\n",
    "def train_and_evaluate_decision_tree(inputs, outputs):\n",
    "    # Initialize the Decision Tree Classifier\n",
    "    dtc = DecisionTreeClassifier()\n",
    "\n",
    "    # Train the classifier on the inputs and outputs\n",
    "    dtc.fit(inputs, outputs)\n",
    "\n",
    "    # Evaluate the classifier's training accuracy\n",
    "    score = dtc.score(inputs, outputs)\n",
    "\n",
    "    return score\n"
   ]
  },
  {
   "cell_type": "code",
   "execution_count": 54,
   "metadata": {},
   "outputs": [
    {
     "name": "stdout",
     "output_type": "stream",
     "text": [
      "Training Accuracy: 0.9761904761904762\n"
     ]
    }
   ],
   "source": [
    "# Assuming the `process_songs` function is defined as before\n",
    "songs = [\n",
    "    \"ABCDEFGHIABCDEFGHIABCDEFGHIABCDEFGHIABCDEF\",\n",
    "    \"ABCDEFGHIABCDEFGHIABCDEFGHIABCDEFGHIABCDEF\"\n",
    "]\n",
    "\n",
    "inputs, outputs = process_songs(songs)\n",
    "\n",
    "# Train the classifier and get the score\n",
    "training_score = train_and_evaluate_decision_tree(inputs, outputs)\n",
    "\n",
    "print(\"Training Accuracy:\", training_score)"
   ]
  },
  {
   "cell_type": "markdown",
   "metadata": {},
   "source": [
    "## training on song 1 and testing on song 2\n"
   ]
  },
  {
   "cell_type": "code",
   "execution_count": 97,
   "metadata": {},
   "outputs": [
    {
     "name": "stdout",
     "output_type": "stream",
     "text": [
      "Test Accuracy on Song 2: 0.9285714285714286\n"
     ]
    }
   ],
   "source": [
    "#training on song 1 and testing on song 2\n",
    "def train_on_song1_test_on_song2(song1, song2):\n",
    "    # Function to generate inputs and outputs from a song\n",
    "    def generate_features_from_song(song):\n",
    "        ins = []\n",
    "        outs = []\n",
    "        DB = list(song)\n",
    "        for i in range(42):\n",
    "            I = [ord(DB[(i + j) % len(DB)]) for j in range(4)]\n",
    "            outs.append(ord(DB[(i + 4) % len(DB)]))\n",
    "            ins.append(I)\n",
    "        return ins, outs\n",
    "\n",
    "    # Generate features from both songs\n",
    "    inputs_song1, outputs_song1 = generate_features_from_song(song1)\n",
    "    inputs_song2, outputs_song2 = generate_features_from_song(song2)\n",
    "\n",
    "    # Initialize and train a Decision Tree Classifier on Song 1\n",
    "    dtc = DecisionTreeClassifier()\n",
    "    dtc.fit(inputs_song1, outputs_song1)\n",
    "\n",
    "    # Test the classifier on Song 2\n",
    "    test_accuracy = dtc.score(inputs_song2, outputs_song2)\n",
    "\n",
    "    return dtc, test_accuracy\n",
    "\n",
    "# Example songs\n",
    "song1 = \"CCGGAAGFFEEDDCGGFFEEDGGFFEEDCCGGAAGFFEEDDC\"\n",
    "song2 = \"CCGGAAGFFEEDDCGGFFEEDGGFFEEDCCGGAAGFFEEDDC\"\n",
    "\n",
    "# Train on Song 1 and test on Song 2\n",
    "classifier, accuracy = train_on_song1_test_on_song2(song1, song2)\n",
    "print(\"Test Accuracy on Song 2:\", accuracy)\n"
   ]
  },
  {
   "cell_type": "code",
   "execution_count": null,
   "metadata": {},
   "outputs": [],
   "source": []
  }
 ],
 "metadata": {
  "kernelspec": {
   "display_name": "Python 3",
   "language": "python",
   "name": "python3"
  },
  "language_info": {
   "codemirror_mode": {
    "name": "ipython",
    "version": 3
   },
   "file_extension": ".py",
   "mimetype": "text/x-python",
   "name": "python",
   "nbconvert_exporter": "python",
   "pygments_lexer": "ipython3",
   "version": "3.10.7"
  }
 },
 "nbformat": 4,
 "nbformat_minor": 2
}
